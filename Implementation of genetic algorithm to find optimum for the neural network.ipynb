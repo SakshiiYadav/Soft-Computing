{
 "cells": [
  {
   "cell_type": "code",
   "execution_count": 1,
   "id": "ccc45f0a",
   "metadata": {},
   "outputs": [
    {
     "name": "stdout",
     "output_type": "stream",
     "text": [
      "Requirement already satisfied: pygad in c:\\users\\user15\\anaconda3\\lib\\site-packages (2.19.2)\n",
      "Requirement already satisfied: cloudpickle in c:\\users\\user15\\anaconda3\\lib\\site-packages (from pygad) (2.0.0)\n",
      "Requirement already satisfied: matplotlib in c:\\users\\user15\\anaconda3\\lib\\site-packages (from pygad) (3.5.1)\n",
      "Requirement already satisfied: numpy in c:\\users\\user15\\anaconda3\\lib\\site-packages (from pygad) (1.21.5)\n",
      "Requirement already satisfied: python-dateutil>=2.7 in c:\\users\\user15\\anaconda3\\lib\\site-packages (from matplotlib->pygad) (2.8.2)\n",
      "Requirement already satisfied: fonttools>=4.22.0 in c:\\users\\user15\\anaconda3\\lib\\site-packages (from matplotlib->pygad) (4.25.0)\n",
      "Requirement already satisfied: pillow>=6.2.0 in c:\\users\\user15\\anaconda3\\lib\\site-packages (from matplotlib->pygad) (9.0.1)\n",
      "Requirement already satisfied: packaging>=20.0 in c:\\users\\user15\\anaconda3\\lib\\site-packages (from matplotlib->pygad) (21.3)\n",
      "Requirement already satisfied: cycler>=0.10 in c:\\users\\user15\\anaconda3\\lib\\site-packages (from matplotlib->pygad) (0.11.0)\n",
      "Requirement already satisfied: kiwisolver>=1.0.1 in c:\\users\\user15\\anaconda3\\lib\\site-packages (from matplotlib->pygad) (1.3.2)\n",
      "Requirement already satisfied: pyparsing>=2.2.1 in c:\\users\\user15\\anaconda3\\lib\\site-packages (from matplotlib->pygad) (3.0.4)\n",
      "Requirement already satisfied: six>=1.5 in c:\\users\\user15\\anaconda3\\lib\\site-packages (from python-dateutil>=2.7->matplotlib->pygad) (1.16.0)\n"
     ]
    }
   ],
   "source": [
    "!pip install pygad"
   ]
  },
  {
   "cell_type": "code",
   "execution_count": 2,
   "id": "39d251e4",
   "metadata": {},
   "outputs": [],
   "source": [
    "import pygad"
   ]
  },
  {
   "cell_type": "code",
   "execution_count": 3,
   "id": "20984cdf",
   "metadata": {},
   "outputs": [],
   "source": [
    "import numpy as np"
   ]
  },
  {
   "cell_type": "code",
   "execution_count": 4,
   "id": "2d995c43",
   "metadata": {},
   "outputs": [],
   "source": [
    "X=[4,-2,3.5,5,-11,-4.7]\n",
    "desired_output=44"
   ]
  },
  {
   "cell_type": "code",
   "execution_count": 5,
   "id": "b2a24264",
   "metadata": {},
   "outputs": [],
   "source": [
    "def fitness_func(solution,solution_idx):\n",
    "    output=numpy.sum(solution*X)\n",
    "    fitness=1.0/numpy.abs(output-desired_output)\n",
    "    return fitness"
   ]
  },
  {
   "cell_type": "code",
   "execution_count": 6,
   "id": "15a4af8d",
   "metadata": {},
   "outputs": [],
   "source": [
    "fitness_function=fitness_func\n",
    "num_generations=50\n",
    "num_parents_mating=4\n",
    "sol_per_pop=8\n",
    "num_genes=len(X)\n",
    "init_range_low=-2\n",
    "init_range_high=5\n",
    "parent_selection_type='sss'\n",
    "keep_parents=1\n",
    "crossover_type=\"single_point\"\n",
    "mutation_type=\"random\""
   ]
  },
  {
   "cell_type": "code",
   "execution_count": 7,
   "id": "cb80df01",
   "metadata": {},
   "outputs": [
    {
     "name": "stderr",
     "output_type": "stream",
     "text": [
      "C:\\Users\\User15\\anaconda3\\lib\\site-packages\\pygad\\pygad.py:522: UserWarning: The percentage of genes to mutate (mutation_percent_genes=10) resutled in selecting (0) genes. The number of genes to mutate is set to 1 (mutation_num_genes=1).\n",
      "If you do not want to mutate any gene, please set mutation_type=None.\n",
      "  if not self.suppress_warnings: warnings.warn(\"The percentage of genes to mutate (mutation_percent_genes={mutation_percent}) resutled in selecting ({mutation_num}) genes. The number of genes to mutate is set to 1 (mutation_num_genes=1).\\nIf you do not want to mutate any gene, please set mutation_type=None.\".format(mutation_percent=mutation_percent_genes, mutation_num=mutation_num_genes))\n"
     ]
    }
   ],
   "source": [
    "ga_instance=pygad.GA(num_generations=num_generations,num_parents_mating=num_parents_mating,\n",
    "                    fitness_func=fitness_function,sol_per_pop=sol_per_pop,\n",
    "                    num_genes=num_genes,init_range_low=init_range_low,\n",
    "                    init_range_high=init_range_high,\n",
    "                    parent_selection_type=parent_selection_type,keep_parents=keep_parents,\n",
    "                    crossover_type=crossover_type,mutation_type=mutation_type,\n",
    "                    mutation_percent_genes=10)"
   ]
  },
  {
   "cell_type": "code",
   "execution_count": 8,
   "id": "4fe073c3",
   "metadata": {},
   "outputs": [],
   "source": [
    "import numpy\n",
    "ga_instance.run()"
   ]
  },
  {
   "cell_type": "code",
   "execution_count": 9,
   "id": "26f15aad",
   "metadata": {},
   "outputs": [
    {
     "name": "stdout",
     "output_type": "stream",
     "text": [
      "solution is: [ 1.93772409  0.01705133  4.412918    3.56853385 -1.10623186  1.95383451]\n"
     ]
    }
   ],
   "source": [
    "solution,solution_fitness,solution_idx=ga_instance.best_solution()\n",
    "print(\"solution is:\",solution)"
   ]
  },
  {
   "cell_type": "code",
   "execution_count": 10,
   "id": "a6b824e9",
   "metadata": {},
   "outputs": [
    {
     "name": "stdout",
     "output_type": "stream",
     "text": [
      "fitness of solution is: 102.08509917505913\n"
     ]
    }
   ],
   "source": [
    "print(\"fitness of solution is:\",solution_fitness)"
   ]
  },
  {
   "cell_type": "code",
   "execution_count": null,
   "id": "8de032a0",
   "metadata": {},
   "outputs": [],
   "source": []
  }
 ],
 "metadata": {
  "kernelspec": {
   "display_name": "Python 3 (ipykernel)",
   "language": "python",
   "name": "python3"
  },
  "language_info": {
   "codemirror_mode": {
    "name": "ipython",
    "version": 3
   },
   "file_extension": ".py",
   "mimetype": "text/x-python",
   "name": "python",
   "nbconvert_exporter": "python",
   "pygments_lexer": "ipython3",
   "version": "3.9.12"
  }
 },
 "nbformat": 4,
 "nbformat_minor": 5
}
