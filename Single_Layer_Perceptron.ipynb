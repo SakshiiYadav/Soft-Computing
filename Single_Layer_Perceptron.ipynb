{
 "cells": [
  {
   "cell_type": "code",
   "execution_count": 1,
   "id": "0b468aac",
   "metadata": {},
   "outputs": [],
   "source": [
    "#Perceptron Learning(single Layer Perceptron)"
   ]
  },
  {
   "cell_type": "code",
   "execution_count": 2,
   "id": "89682d8d",
   "metadata": {},
   "outputs": [],
   "source": [
    "from sklearn import datasets"
   ]
  },
  {
   "cell_type": "code",
   "execution_count": 3,
   "id": "e494e7a6",
   "metadata": {},
   "outputs": [],
   "source": [
    "X,y=datasets.make_blobs(n_samples=150,n_features=2,centers=2,cluster_std=1.05,random_state=2)"
   ]
  },
  {
   "cell_type": "code",
   "execution_count": 4,
   "id": "70b1514b",
   "metadata": {},
   "outputs": [
    {
     "data": {
      "text/plain": [
       "array([1, 0, 1, 1, 0, 0, 0, 1, 1, 0, 0, 0, 1, 1, 1, 1, 1, 0, 1, 0, 0, 1,\n",
       "       0, 1, 1, 1, 1, 0, 1, 0, 1, 1, 1, 0, 1, 0, 1, 0, 1, 0, 0, 0, 1, 0,\n",
       "       1, 1, 0, 0, 0, 1, 0, 1, 0, 0, 0, 0, 0, 0, 0, 0, 1, 1, 1, 0, 1, 0,\n",
       "       1, 0, 1, 1, 0, 1, 1, 1, 1, 0, 1, 0, 1, 1, 1, 1, 1, 1, 0, 1, 1, 1,\n",
       "       1, 0, 0, 1, 1, 1, 0, 0, 0, 1, 1, 0, 0, 0, 1, 1, 0, 1, 0, 0, 0, 1,\n",
       "       0, 1, 0, 0, 0, 0, 0, 0, 0, 1, 0, 0, 0, 1, 0, 0, 0, 1, 1, 0, 0, 1,\n",
       "       1, 1, 0, 1, 1, 1, 0, 1, 0, 1, 0, 0, 0, 0, 1, 0, 1, 1])"
      ]
     },
     "execution_count": 4,
     "metadata": {},
     "output_type": "execute_result"
    }
   ],
   "source": [
    "y"
   ]
  },
  {
   "cell_type": "code",
   "execution_count": 5,
   "id": "202b19cb",
   "metadata": {},
   "outputs": [
    {
     "data": {
      "text/plain": [
       "Text(0.5, 1.0, 'Random Classification with 2 classes')"
      ]
     },
     "execution_count": 5,
     "metadata": {},
     "output_type": "execute_result"
    },
    {
     "data": {
      "image/png": "[encoded data removed]",
      "text/plain": [
       "<Figure size 720x576 with 1 Axes>"
      ]
     },
     "metadata": {
      "needs_background": "light"
     },
     "output_type": "display_data"
    }
   ],
   "source": [
    "import matplotlib.pyplot as plt\n",
    "fig=plt.figure(figsize=(10,8))\n",
    "plt.plot(X[:,0][y==0],X[:,1][y==0],'r^')\n",
    "plt.plot(X[:,0][y==1],X[:,1][y==1],'bs')\n",
    "plt.xlabel(\"feature1\")\n",
    "plt.ylabel(\"feature2\")\n",
    "plt.title('Random Classification with 2 classes')"
   ]
  },
  {
   "cell_type": "code",
   "execution_count": 6,
   "id": "c20bb61f",
   "metadata": {},
   "outputs": [],
   "source": [
    "def step_func(z):\n",
    "    if(z>0):\n",
    "        return 1.0\n",
    "    else:\n",
    "        return 0.0"
   ]
  },
  {
   "cell_type": "code",
   "execution_count": 7,
   "id": "585d5c65",
   "metadata": {},
   "outputs": [],
   "source": [
    "import numpy as np"
   ]
  },
  {
   "cell_type": "code",
   "execution_count": 8,
   "id": "a8c3a74d",
   "metadata": {},
   "outputs": [],
   "source": [
    "# This function is used to deploy perceptron learning the logic of weight updation rule will be implemented in the body of the function\n",
    "# The data variables will be used as follows\n",
    "# X=matrix of input features\n",
    "#y-column of labe;s or target\n",
    "# Lr-Learning rate\n",
    "# epoch-number of iterations\n",
    "# m-number of training samples\n",
    "# n-number of features\n",
    "# weights-connection weights\n",
    "# n_mis_list-an array of mis classified examples\n",
    "# connection weights"
   ]
  },
  {
   "cell_type": "code",
   "execution_count": 9,
   "id": "3574289a",
   "metadata": {},
   "outputs": [],
   "source": [
    "import numpy as np\n",
    "def perceptron(X,y,lr,epochs):\n",
    "    m,n=X.shape\n",
    "    weights=np.zeros((n+1,1))\n",
    "    n_miss_list=[]\n",
    "    for epoch in range(epochs):\n",
    "        n_miss=0\n",
    "        for idx,x_i in enumerate(X):\n",
    "            x_i=np.insert(x_i,0,1).reshape(-1,1)\n",
    "            y_hat=step_func(np.dot(x_i.T,weights))\n",
    "            if(np.squeeze(y_hat)-y[idx])!=0:\n",
    "                weights+=lr*((y[idx]-y_hat)*x_i)\n",
    "                n_miss+=1\n",
    "        n_miss_list.append(n_miss)\n",
    "    return weights,n_miss_list"
   ]
  },
  {
   "cell_type": "code",
   "execution_count": 10,
   "id": "f6642f16",
   "metadata": {},
   "outputs": [],
   "source": [
    "def plot_decision_boundary(X,weights):\n",
    "    x1=[min(X[:,0]),max(X[:,0])]\n",
    "    m=-weights[1]/weights[2]\n",
    "    c=-weights[0]/weights[2]\n",
    "    x2=m*x1+c\n",
    "    plt.plot(X[:,0][y==0],X[:,1][y==0],'r^')\n",
    "    plt.plot(X[:,0][y==1],X[:,1][y==1],'bs')\n",
    "    plt.xlabel(\"feature1\")\n",
    "    plt.ylabel('feature2')\n",
    "    plt.title('Perceptron Learning')\n",
    "    plt.plot(x1,x2,'y-')"
   ]
  },
  {
   "cell_type": "code",
   "execution_count": 11,
   "id": "83910e40",
   "metadata": {},
   "outputs": [
    {
     "data": {
      "image/png": "[encoded data removed]",
      "text/plain": [
       "<Figure size 432x288 with 1 Axes>"
      ]
     },
     "metadata": {
      "needs_background": "light"
     },
     "output_type": "display_data"
    }
   ],
   "source": [
    "weights,miss_l=perceptron(X,y,0.5,100)\n",
    "plot_decision_boundary(X,weights)"
   ]
  },
  {
   "cell_type": "markdown",
   "id": "2c10b10c",
   "metadata": {},
   "source": [
    "**viva questions for Practical**                                      \n",
    "Functions used in the program                                                                                                  \n",
    "1)make_blobs-This function is used to synthetically generate a dataset                                    \n",
    "2)n_samples-is the total no of samples you want in the dataset,similarly                                  \n",
    "3)n_features is the total no of input features                                                             \n",
    "4)centres-represent the total no of grps,clusters or calsses you want                                          \n",
    "5)np.zeros:this puthon function returns a new array of given shape and size filled with zeros                                \n",
    "eg:np.zeros(5),will give ([0.,0.,0.,0.,0.])                                                        \n",
    "eg:np.zero(2,1),will give([[0.],[0.]])                                                          \n",
    "eg:np.zero(2,2) will give([[0.,0.][0.,0.]]                                                             \n",
    "6)numpy.insert function:insert values along the given axis                                                    \n",
    "eg-Suppose we have array A=[1,1],[2,2],[3,3] if we give the command np.insert (A,1,5,axis=1)then 5 will be inserted in the array A at column number 1                                                           \n",
    "7)Re-shape:(-1,1)-Reshpe function is used to give a new shape to the numpy array.Numpy allows us to give one parameter in the reshape function as -1                                                             \n",
    "eg-(2,-1)                                                                      \n",
    "eg(-1,-1)not allowed                                                                  \n",
    "-1 simply means unknown dimension but we want numpy to figure it out                                  \n",
    "eg:z=[1,2,3,4],[5,6,7,8],[9,,10,11,12]                                                                 \n",
    "z.reshape (-1) wil convert this array into a single row as follows,z=[1,2,3,4,5,6,7,8,9,10,11,12]                               \n",
    "z.reshape(-1,1) will result in [1],[2],[3],[4],[5],[6],[7],[8],[9],[10],[11],[12]                                           \n",
    "8)numpy.squeeze function:is used when we want to remove single dimension entries from the shape of an array                    \n",
    "suppose array A=[[[2,2,2],[2,2,2]]] and this function will reduce one dimension of the array.                          "
   ]
  },
  {
   "cell_type": "code",
   "execution_count": null,
   "id": "bd50c007",
   "metadata": {},
   "outputs": [],
   "source": []
  }
 ],
 "metadata": {
  "kernelspec": {
   "display_name": "Python 3 (ipykernel)",
   "language": "python",
   "name": "python3"
  },
  "language_info": {
   "codemirror_mode": {
    "name": "ipython",
    "version": 3
   },
   "file_extension": ".py",
   "mimetype": "text/x-python",
   "name": "python",
   "nbconvert_exporter": "python",
   "pygments_lexer": "ipython3",
   "version": "3.9.12"
  }
 },
 "nbformat": 4,
 "nbformat_minor": 5
}
