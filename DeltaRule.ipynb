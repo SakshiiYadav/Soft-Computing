{
 "cells": [
  {
   "cell_type": "markdown",
   "id": "d0fdc7fc",
   "metadata": {},
   "source": [
    "Aim : Write a program to implement Delta Rule."
   ]
  },
  {
   "cell_type": "code",
   "execution_count": 1,
   "id": "a1bc45fa",
   "metadata": {},
   "outputs": [],
   "source": [
    "import numpy as np"
   ]
  },
  {
   "cell_type": "code",
   "execution_count": 2,
   "id": "93b6cfde",
   "metadata": {},
   "outputs": [],
   "source": [
    "x=np.zeros((3,))"
   ]
  },
  {
   "cell_type": "code",
   "execution_count": 3,
   "id": "5a695944",
   "metadata": {},
   "outputs": [],
   "source": [
    "weights=np.zeros((3,))"
   ]
  },
  {
   "cell_type": "code",
   "execution_count": 4,
   "id": "d1bdd8a7",
   "metadata": {},
   "outputs": [],
   "source": [
    "desired=np.zeros((3,))"
   ]
  },
  {
   "cell_type": "code",
   "execution_count": 5,
   "id": "c549e838",
   "metadata": {},
   "outputs": [],
   "source": [
    "actual=np.zeros((3,))"
   ]
  },
  {
   "cell_type": "code",
   "execution_count": 6,
   "id": "5aa806a1",
   "metadata": {},
   "outputs": [
    {
     "name": "stdout",
     "output_type": "stream",
     "text": [
      "Initial Inputs:1\n",
      "Initial Inputs:1\n",
      "Initial Inputs:1\n"
     ]
    }
   ],
   "source": [
    "for i in range(0,3):\n",
    "    x[i]=float(input(\"Initial Inputs:\"))"
   ]
  },
  {
   "cell_type": "code",
   "execution_count": 7,
   "id": "d6bf350f",
   "metadata": {},
   "outputs": [
    {
     "name": "stdout",
     "output_type": "stream",
     "text": [
      "Initial Weights:1\n",
      "Initial Weights:1\n",
      "Initial Weights:1\n"
     ]
    }
   ],
   "source": [
    "for i in range(0,3):\n",
    "    weights[i]=float(input(\"Initial Weights:\"))"
   ]
  },
  {
   "cell_type": "code",
   "execution_count": 8,
   "id": "7340149b",
   "metadata": {},
   "outputs": [
    {
     "name": "stdout",
     "output_type": "stream",
     "text": [
      "Desired Inputs:2\n",
      "Desired Inputs:3\n",
      "Desired Inputs:4\n"
     ]
    }
   ],
   "source": [
    "for i in range(0,3):\n",
    "    desired[i]=float(input(\"Desired Inputs:\"))"
   ]
  },
  {
   "cell_type": "code",
   "execution_count": 10,
   "id": "a2f0212c",
   "metadata": {},
   "outputs": [
    {
     "name": "stdout",
     "output_type": "stream",
     "text": [
      "Enter learning rate1\n"
     ]
    }
   ],
   "source": [
    "a=float(input(\"Enter learning rate\"))"
   ]
  },
  {
   "cell_type": "code",
   "execution_count": 11,
   "id": "1e39f98e",
   "metadata": {},
   "outputs": [
    {
     "data": {
      "text/plain": [
       "array([1., 1., 1.])"
      ]
     },
     "execution_count": 11,
     "metadata": {},
     "output_type": "execute_result"
    }
   ],
   "source": [
    "x"
   ]
  },
  {
   "cell_type": "code",
   "execution_count": 12,
   "id": "3a8d1eaf",
   "metadata": {},
   "outputs": [
    {
     "data": {
      "text/plain": [
       "array([1., 1., 1.])"
      ]
     },
     "execution_count": 12,
     "metadata": {},
     "output_type": "execute_result"
    }
   ],
   "source": [
    "weights"
   ]
  },
  {
   "cell_type": "code",
   "execution_count": 13,
   "id": "e00db9d5",
   "metadata": {},
   "outputs": [
    {
     "data": {
      "text/plain": [
       "array([2., 3., 4.])"
      ]
     },
     "execution_count": 13,
     "metadata": {},
     "output_type": "execute_result"
    }
   ],
   "source": [
    "desired"
   ]
  },
  {
   "cell_type": "code",
   "execution_count": 14,
   "id": "5f41385a",
   "metadata": {},
   "outputs": [],
   "source": [
    "actual=x*weights"
   ]
  },
  {
   "cell_type": "code",
   "execution_count": 15,
   "id": "56373f19",
   "metadata": {},
   "outputs": [
    {
     "name": "stdout",
     "output_type": "stream",
     "text": [
      "Actual output [1. 1. 1.]\n",
      "Desired output [2. 3. 4.]\n"
     ]
    }
   ],
   "source": [
    "print(\"Actual output\",actual)\n",
    "print(\"Desired output\",desired)"
   ]
  },
  {
   "cell_type": "code",
   "execution_count": 16,
   "id": "25f7f840",
   "metadata": {},
   "outputs": [],
   "source": [
    "while True:\n",
    "    if np.array_equal(desired,actual):\n",
    "        break\n",
    "    else:\n",
    "        for i in range(0,3):\n",
    "            weights[i]=weights[i]+a*(desired[i]-actual[i])\n",
    "            actual=x*weights"
   ]
  },
  {
   "cell_type": "code",
   "execution_count": 17,
   "id": "a867da95",
   "metadata": {},
   "outputs": [
    {
     "name": "stdout",
     "output_type": "stream",
     "text": [
      "Final Output\n",
      "Corrected Weights [2. 3. 4.]\n",
      "Actual Output [2. 3. 4.]\n",
      "Desired Output [2. 3. 4.]\n"
     ]
    }
   ],
   "source": [
    "print(\"Final Output\")\n",
    "print(\"Corrected Weights\",weights)\n",
    "print(\"Actual Output\",actual)\n",
    "print(\"Desired Output\",desired)"
   ]
  },
  {
   "cell_type": "code",
   "execution_count": null,
   "id": "f2767d6f",
   "metadata": {},
   "outputs": [],
   "source": []
  }
 ],
 "metadata": {
  "kernelspec": {
   "display_name": "Python 3 (ipykernel)",
   "language": "python",
   "name": "python3"
  },
  "language_info": {
   "codemirror_mode": {
    "name": "ipython",
    "version": 3
   },
   "file_extension": ".py",
   "mimetype": "text/x-python",
   "name": "python",
   "nbconvert_exporter": "python",
   "pygments_lexer": "ipython3",
   "version": "3.9.12"
  }
 },
 "nbformat": 4,
 "nbformat_minor": 5
}
