{
 "cells": [
  {
   "cell_type": "code",
   "execution_count": 1,
   "id": "f6f02f4e",
   "metadata": {},
   "outputs": [
    {
     "name": "stdout",
     "output_type": "stream",
     "text": [
      "Requirement already satisfied: fuzzywuzzy in c:\\users\\user15\\anaconda3\\lib\\site-packages (0.18.0)\n",
      "Requirement already satisfied: python-Levenshtein in c:\\users\\user15\\anaconda3\\lib\\site-packages (0.20.9)\n",
      "Requirement already satisfied: Levenshtein==0.20.9 in c:\\users\\user15\\anaconda3\\lib\\site-packages (from python-Levenshtein) (0.20.9)\n",
      "Requirement already satisfied: rapidfuzz<3.0.0,>=2.3.0 in c:\\users\\user15\\anaconda3\\lib\\site-packages (from Levenshtein==0.20.9->python-Levenshtein) (2.13.7)\n"
     ]
    }
   ],
   "source": [
    "!pip install fuzzywuzzy\n",
    "!pip install python-Levenshtein"
   ]
  },
  {
   "cell_type": "code",
   "execution_count": 2,
   "id": "b395a59c",
   "metadata": {},
   "outputs": [],
   "source": [
    "from fuzzywuzzy import fuzz\n",
    "from fuzzywuzzy import process"
   ]
  },
  {
   "cell_type": "code",
   "execution_count": 3,
   "id": "3d9673ce",
   "metadata": {},
   "outputs": [
    {
     "name": "stdout",
     "output_type": "stream",
     "text": [
      "96\n"
     ]
    }
   ],
   "source": [
    "strA = 'ArunKumar is a lifesaver'\n",
    "strB = 'arun kumar is a LIFE SAVER'\n",
    "ratio = fuzz.ratio(strA.lower(),strB.lower())\n",
    "print(ratio)"
   ]
  },
  {
   "cell_type": "code",
   "execution_count": 4,
   "id": "ea0341d0",
   "metadata": {},
   "outputs": [
    {
     "name": "stdout",
     "output_type": "stream",
     "text": [
      "52\n"
     ]
    }
   ],
   "source": [
    "ratio2 = fuzz.ratio(strA,strB)\n",
    "print(ratio2)"
   ]
  },
  {
   "cell_type": "markdown",
   "id": "4c88bb19",
   "metadata": {},
   "source": [
    "# Partial Ratio"
   ]
  },
  {
   "cell_type": "code",
   "execution_count": 5,
   "id": "e51860d5",
   "metadata": {},
   "outputs": [
    {
     "name": "stdout",
     "output_type": "stream",
     "text": [
      "100\n",
      "48\n"
     ]
    }
   ],
   "source": [
    "strA='Mumbai, Maharashtra'\n",
    "strB='Mumbai'\n",
    "pratio = fuzz.partial_ratio(strA,strB)\n",
    "ratio3=fuzz.ratio(strA,strB)\n",
    "print(pratio)\n",
    "print(ratio3)"
   ]
  },
  {
   "cell_type": "code",
   "execution_count": 6,
   "id": "b484acba",
   "metadata": {},
   "outputs": [
    {
     "name": "stdout",
     "output_type": "stream",
     "text": [
      "100\n",
      "45\n"
     ]
    }
   ],
   "source": [
    "strA='Neil Nitin Mukesh'\n",
    "strB='Nitin'\n",
    "pratio = fuzz.partial_ratio(strA,strB)\n",
    "ratio3=fuzz.ratio(strA,strB)\n",
    "print(pratio)\n",
    "print(ratio3)"
   ]
  },
  {
   "cell_type": "code",
   "execution_count": 7,
   "id": "5bc349c9",
   "metadata": {},
   "outputs": [
    {
     "name": "stdout",
     "output_type": "stream",
     "text": [
      "100\n",
      "71\n"
     ]
    }
   ],
   "source": [
    "strA='Lalu Prasad Yadav'\n",
    "strB='Prasad Lalu Yadav'\n",
    "tsratio = fuzz.token_sort_ratio(strA,strB)\n",
    "ratio4=fuzz.ratio(strA,strB)\n",
    "print(tsratio)\n",
    "print(ratio4)"
   ]
  },
  {
   "cell_type": "markdown",
   "id": "7398bdc2",
   "metadata": {},
   "source": [
    "Fuzzywuzzy library provides fuzz API which is very useful in doing string matching for applications like NLP.It provides us with variety of string matching function that can be use in different scenarios:\n",
    "\n",
    "1.Ratio Function - Ratio function finds out the similarity ratio between the two strings using Levenshtein Distance formula.\n",
    "\n",
    "2.Partial Ratio Function - Partial Ratio Function is use to perform sub-string matching this function is typically useful while matching peoples name \n",
    "\n",
    "3.Token Sort Ratio - Token sort ratio function sorts the string alphabetically and then do matching on the alphabetically sorted version of the strings"
   ]
  },
  {
   "cell_type": "code",
   "execution_count": 8,
   "id": "10e4bb4f",
   "metadata": {},
   "outputs": [],
   "source": [
    " # Q.Compare the following string using ratio,partial ratio and token sort ratio function."
   ]
  },
  {
   "cell_type": "code",
   "execution_count": 9,
   "id": "26847f50",
   "metadata": {},
   "outputs": [
    {
     "name": "stdout",
     "output_type": "stream",
     "text": [
      "87\n"
     ]
    }
   ],
   "source": [
    "#ratio function\n",
    "strA = 'truth or dare'\n",
    "strB = 'truth dare'\n",
    "#ratio5 = fuzz.ratio(strA.lower(),strB.lower())\n",
    "ratio6 = fuzz.ratio(strA,strB)\n",
    "#print(ratio5)\n",
    "print(ratio6)"
   ]
  },
  {
   "cell_type": "code",
   "execution_count": 10,
   "id": "db957269",
   "metadata": {},
   "outputs": [
    {
     "name": "stdout",
     "output_type": "stream",
     "text": [
      "80\n"
     ]
    }
   ],
   "source": [
    "#ratio function\n",
    "strA = 'TruthOrDare'\n",
    "strB = 'Truthdare'\n",
    "#ratio7 = fuzz.ratio(strA.lower(),strB.lower())\n",
    "#print(ratio7)\n",
    "ratio8 = fuzz.ratio(strA,strB)\n",
    "print(ratio8)"
   ]
  },
  {
   "cell_type": "code",
   "execution_count": 11,
   "id": "1710853f",
   "metadata": {},
   "outputs": [
    {
     "name": "stdout",
     "output_type": "stream",
     "text": [
      "100\n",
      "96\n"
     ]
    }
   ],
   "source": [
    "# Partial ratio function\n",
    "strA='truth or dare'\n",
    "strB='truth or dare!'\n",
    "pratio = fuzz.partial_ratio(strA,strB)\n",
    "ratio9=fuzz.ratio(strA,strB)\n",
    "print(pratio)\n",
    "print(ratio9)"
   ]
  },
  {
   "cell_type": "code",
   "execution_count": 12,
   "id": "8ce323f3",
   "metadata": {},
   "outputs": [
    {
     "name": "stdout",
     "output_type": "stream",
     "text": [
      "70\n",
      "87\n"
     ]
    }
   ],
   "source": [
    "# Partial ratio function\n",
    "strA='truth or dare'\n",
    "strB='truth dare'\n",
    "pratio = fuzz.partial_ratio(strA,strB)\n",
    "ratio10=fuzz.ratio(strA,strB)\n",
    "print(pratio)\n",
    "print(ratio10)"
   ]
  },
  {
   "cell_type": "code",
   "execution_count": 13,
   "id": "a324fbe9",
   "metadata": {},
   "outputs": [
    {
     "name": "stdout",
     "output_type": "stream",
     "text": [
      "70\n",
      "78\n"
     ]
    }
   ],
   "source": [
    "# Partial ratio function\n",
    "strA='Raj Kapoor'\n",
    "strB='Ranbir Kapoor'\n",
    "pratio = fuzz.partial_ratio(strA,strB)\n",
    "ratio11=fuzz.ratio(strA,strB)\n",
    "print(pratio)\n",
    "print(ratio11)"
   ]
  },
  {
   "cell_type": "code",
   "execution_count": 14,
   "id": "2dfb7b56",
   "metadata": {},
   "outputs": [
    {
     "name": "stdout",
     "output_type": "stream",
     "text": [
      "100\n",
      "46\n"
     ]
    }
   ],
   "source": [
    "#token sort ratio function\n",
    "strA='truth or dare'\n",
    "strB='dare or truth'\n",
    "tsratio = fuzz.token_sort_ratio(strA,strB)\n",
    "ratio12=fuzz.ratio(strA,strB)\n",
    "print(tsratio)\n",
    "print(ratio12)"
   ]
  },
  {
   "cell_type": "code",
   "execution_count": 15,
   "id": "58617752",
   "metadata": {},
   "outputs": [
    {
     "name": "stdout",
     "output_type": "stream",
     "text": [
      "100\n",
      "54\n"
     ]
    }
   ],
   "source": [
    "#token sort ratio function\n",
    "strA='truth or dare'\n",
    "strB='or dare truth'\n",
    "tsratio = fuzz.token_sort_ratio(strA,strB)\n",
    "ratio13=fuzz.ratio(strA,strB)\n",
    "print(tsratio)\n",
    "print(ratio13)"
   ]
  },
  {
   "cell_type": "code",
   "execution_count": 16,
   "id": "71d1d9fb",
   "metadata": {},
   "outputs": [],
   "source": [
    "#Token Set Ratio"
   ]
  },
  {
   "cell_type": "code",
   "execution_count": 17,
   "id": "3116c079",
   "metadata": {},
   "outputs": [
    {
     "name": "stdout",
     "output_type": "stream",
     "text": [
      "90\n",
      "100\n"
     ]
    }
   ],
   "source": [
    "s1='truth or dare'\n",
    "s2='truth or or dare'\n",
    "tsort=fuzz.token_sort_ratio(s1,s2)\n",
    "print(tsort)\n",
    "tset=fuzz.token_set_ratio(s1,s2)\n",
    "print(tset)"
   ]
  },
  {
   "cell_type": "code",
   "execution_count": 18,
   "id": "1b6252b4",
   "metadata": {},
   "outputs": [
    {
     "name": "stdout",
     "output_type": "stream",
     "text": [
      "77\n",
      "100\n"
     ]
    }
   ],
   "source": [
    "s1='Neil Nitin'\n",
    "s2='Neil Nitin Nitin'\n",
    "tsort=fuzz.token_sort_ratio(s1,s2)\n",
    "print(tsort)\n",
    "tset=fuzz.token_set_ratio(s1,s2)\n",
    "print(tset)"
   ]
  },
  {
   "cell_type": "code",
   "execution_count": 19,
   "id": "20684a6e",
   "metadata": {},
   "outputs": [
    {
     "name": "stdout",
     "output_type": "stream",
     "text": [
      "77\n"
     ]
    }
   ],
   "source": [
    "s1='I Love Myself'\n",
    "s2='I am loving myself'\n",
    "wratio=fuzz.WRatio(s1,s2)\n",
    "print(wratio)"
   ]
  },
  {
   "cell_type": "code",
   "execution_count": 20,
   "id": "9f75c42f",
   "metadata": {},
   "outputs": [
    {
     "name": "stdout",
     "output_type": "stream",
     "text": [
      "100\n"
     ]
    }
   ],
   "source": [
    "s1='truth or dare'\n",
    "s2='Truth Or Dare'\n",
    "wratio1=fuzz.WRatio(s1,s2)\n",
    "print(wratio1)"
   ]
  },
  {
   "cell_type": "code",
   "execution_count": 21,
   "id": "c7bc5852",
   "metadata": {},
   "outputs": [
    {
     "name": "stdout",
     "output_type": "stream",
     "text": [
      "100\n"
     ]
    }
   ],
   "source": [
    "s1='truth or dare!!!'\n",
    "s2='truth or dare'\n",
    "wratio2=fuzz.WRatio(s1,s2)\n",
    "print(wratio2)"
   ]
  },
  {
   "cell_type": "code",
   "execution_count": 22,
   "id": "c613a3af",
   "metadata": {},
   "outputs": [
    {
     "name": "stdout",
     "output_type": "stream",
     "text": [
      "96\n"
     ]
    }
   ],
   "source": [
    "s1='truth or dare!!!'\n",
    "s2='truth or dares'\n",
    "wratio3=fuzz.WRatio(s1,s2)\n",
    "print(wratio3)"
   ]
  },
  {
   "cell_type": "code",
   "execution_count": 23,
   "id": "1f5a5a40",
   "metadata": {},
   "outputs": [],
   "source": [
    "#WRatio is a string matching function that has the ability to ignore uppercase lowercase and also alphanumeric characters."
   ]
  },
  {
   "cell_type": "code",
   "execution_count": 24,
   "id": "ff73eb0a",
   "metadata": {},
   "outputs": [],
   "source": [
    "from fuzzywuzzy import process"
   ]
  },
  {
   "cell_type": "code",
   "execution_count": 27,
   "id": "126022ed",
   "metadata": {},
   "outputs": [
    {
     "name": "stdout",
     "output_type": "stream",
     "text": [
      "list of ratios\n",
      "[('artificial intelligence', 100), ('Artificial Intelligence', 100), ('a intelligence', 86), ('arts intelligence', 80)] \n",
      "\n",
      "Best among the above list: ('artificial intelligence', 100)\n"
     ]
    }
   ],
   "source": [
    "query = \"artificial intelligence\"\n",
    "choices = ['artificial intelligence','Artificial Intelligence','arts intelligence','a intelligence']\n",
    "print(\"list of ratios\")\n",
    "print(process.extract(query,choices),'\\n')\n",
    "print('Best among the above list:',process.extractOne(query,choices))"
   ]
  },
  {
   "cell_type": "code",
   "execution_count": null,
   "id": "e67386e7",
   "metadata": {},
   "outputs": [],
   "source": []
  }
 ],
 "metadata": {
  "kernelspec": {
   "display_name": "Python 3 (ipykernel)",
   "language": "python",
   "name": "python3"
  },
  "language_info": {
   "codemirror_mode": {
    "name": "ipython",
    "version": 3
   },
   "file_extension": ".py",
   "mimetype": "text/x-python",
   "name": "python",
   "nbconvert_exporter": "python",
   "pygments_lexer": "ipython3",
   "version": "3.9.12"
  }
 },
 "nbformat": 4,
 "nbformat_minor": 5
}
